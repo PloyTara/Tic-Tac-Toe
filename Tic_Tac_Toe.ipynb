{
  "nbformat": 4,
  "nbformat_minor": 0,
  "metadata": {
    "colab": {
      "name": "Tic-Tac-Toe.ipynb",
      "provenance": [],
      "collapsed_sections": [],
      "authorship_tag": "ABX9TyPm23jxm+Q6XKCjOwyROEXc",
      "include_colab_link": true
    },
    "kernelspec": {
      "name": "python3",
      "display_name": "Python 3"
    },
    "language_info": {
      "name": "python"
    }
  },
  "cells": [
    {
      "cell_type": "markdown",
      "metadata": {
        "id": "view-in-github",
        "colab_type": "text"
      },
      "source": [
        "<a href=\"https://colab.research.google.com/github/PloyTara/Tic-Tac-Toe/blob/main/Tic_Tac_Toe.ipynb\" target=\"_parent\"><img src=\"https://colab.research.google.com/assets/colab-badge.svg\" alt=\"Open In Colab\"/></a>"
      ]
    },
    {
      "cell_type": "code",
      "metadata": {
        "id": "fGLaajX4Gl97"
      },
      "source": [
        "import numpy as np\n",
        "import random\n",
        "\n",
        "O = []\n",
        "X = []\n",
        "win = [[1,2,3],[4,5,6],[7,8,9],[1,4,7],[2,5,8],[3,6,9],[1,5,9],[3,5,7]]\n",
        "\n",
        "def checkWin(P) :\n",
        "  for w in win:\n",
        "    if all(x-1 in P for x in w) :\n",
        "      return True\n",
        "  return False\n",
        "\n",
        "def displayOX():\n",
        "  OX = np.array([' ']*9)\n",
        "  OX[O] = ['O']\n",
        "  OX[X] = ['X']\n",
        "  print(OX.reshape([3,3]))\n",
        "\n",
        "def AI():\n",
        "  validmove = list(set(range(9)) - set(O+X))\n",
        "\n",
        "  V = [-100]*9\n",
        "  for m in validmove:\n",
        "    tempX = X + [m]\n",
        "    V[m], criticalmove =evalOX(O, tempX)\n",
        "    if len(criticalmove) > 0:\n",
        "      move = [i-1 for i in criticalmove if i-1 in validmove]\n",
        "      return random.choice(move)\n",
        "\n",
        "  maxV = max(V)\n",
        "  imaxV = [i for i, j in enumerate(V) if j == maxV]\n",
        "  return random.choice(imaxV)\n",
        "\n",
        "def evalOX(O,X) :\n",
        "  SO, SX, criticalmove = calSOX(O,X)\n",
        "  return 1 + SX - SO, criticalmove\n",
        "\n",
        "def calSOX(O,X) :\n",
        "  SO = SX = 0\n",
        "  criticalmove = []\n",
        "  for w in win:\n",
        "    o = [i-1 in O for i in w]\n",
        "    x = [i-1 in X for i in w]\n",
        "    if not any (x) :\n",
        "      nO = o.count(True)\n",
        "      SO += nO\n",
        "      if nO == 2:\n",
        "        print('critical', w)\n",
        "        criticalmove = w\n",
        "      if not any (o) :\n",
        "        SX += x.count(True)\n",
        "    return SO, SX, criticalmove\n",
        "\n",
        "while True :\n",
        "  move = int(input('Choose position [1-9]')) - 1\n",
        "  while move in O + X or move > 8 or move < 0:\n",
        "    move = int(input('Bad move: Choose position [1-9]')) - 1\n",
        "  O.append(move)\n",
        "  displayOX()\n",
        "  if checkWin(O) :\n",
        "    print('O win')\n",
        "    break\n",
        "  if len(O) + len(X) == 9 :\n",
        "    print('Draw')\n",
        "    break\n",
        "  X.append(AI())\n",
        "  displayOX()\n",
        "  if checkWin(X) :\n",
        "    print('X win')\n",
        "    break\n",
        "  if len(O) + len(X) == 9 :\n",
        "    print('Draw')\n",
        "    break\n"
      ],
      "execution_count": null,
      "outputs": []
    },
    {
      "cell_type": "markdown",
      "metadata": {
        "id": "kI_yF8dwHXQa"
      },
      "source": [
        ""
      ]
    }
  ]
}